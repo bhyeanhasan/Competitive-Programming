{
 "cells": [
  {
   "cell_type": "markdown",
   "source": [
    "```\n",
    "a x b = LCM (a, b) * GCD (a, b)\n",
    "```"
   ],
   "metadata": {
    "collapsed": false
   },
   "id": "75af9f77f98b32e6"
  },
  {
   "cell_type": "code",
   "execution_count": 12,
   "outputs": [],
   "source": [
    "def lcm1(x, y):\n",
    "\tval = max(x, y)\n",
    "\twhile True:\n",
    "\t\tif val % x == 0 and val % y == 0:\n",
    "\t\t\tlcm = val\n",
    "\t\t\tbreak\n",
    "\t\tval += 1\n",
    "\treturn lcm\n",
    "\n",
    "def lcm2(a, b): \n",
    "    greater = max(a, b) \n",
    "    smallest = min(a, b) \n",
    "    for i in range(greater, a*b+1, greater): \n",
    "        if i % smallest == 0: \n",
    "            return i "
   ],
   "metadata": {
    "collapsed": false,
    "ExecuteTime": {
     "end_time": "2024-01-22T13:32:54.539602100Z",
     "start_time": "2024-01-22T13:32:54.488Z"
    }
   },
   "id": "790ae09b5ed69b1"
  },
  {
   "cell_type": "code",
   "execution_count": 13,
   "outputs": [],
   "source": [
    "def gcd(x,y):\n",
    "\tif x==0:\n",
    "\t\treturn y\n",
    "\treturn gcd(y%x,x)"
   ],
   "metadata": {
    "collapsed": false,
    "ExecuteTime": {
     "end_time": "2024-01-22T13:32:54.549577100Z",
     "start_time": "2024-01-22T13:32:54.495977900Z"
    }
   },
   "id": "c3b741f83b6586cd"
  },
  {
   "cell_type": "code",
   "execution_count": 14,
   "outputs": [
    {
     "name": "stdout",
     "output_type": "stream",
     "text": [
      "4\n"
     ]
    }
   ],
   "source": [
    "print(gcd(12, 4))"
   ],
   "metadata": {
    "collapsed": false,
    "ExecuteTime": {
     "end_time": "2024-01-22T13:32:54.550575500Z",
     "start_time": "2024-01-22T13:32:54.509071400Z"
    }
   },
   "id": "initial_id"
  }
 ],
 "metadata": {
  "kernelspec": {
   "display_name": "Python 3",
   "language": "python",
   "name": "python3"
  },
  "language_info": {
   "codemirror_mode": {
    "name": "ipython",
    "version": 2
   },
   "file_extension": ".py",
   "mimetype": "text/x-python",
   "name": "python",
   "nbconvert_exporter": "python",
   "pygments_lexer": "ipython2",
   "version": "2.7.6"
  }
 },
 "nbformat": 4,
 "nbformat_minor": 5
}
